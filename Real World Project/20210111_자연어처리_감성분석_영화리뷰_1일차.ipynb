{
 "cells": [
  {
   "cell_type": "code",
   "execution_count": 1,
   "id": "f32a7ed0",
   "metadata": {},
   "outputs": [
    {
     "name": "stdout",
     "output_type": "stream",
     "text": [
      "Requirement already satisfied: konlpy in /Users/Eddie/opt/anaconda3/lib/python3.8/site-packages (0.6.0)\n",
      "Requirement already satisfied: lxml>=4.1.0 in /Users/Eddie/opt/anaconda3/lib/python3.8/site-packages (from konlpy) (4.6.3)\n",
      "Requirement already satisfied: JPype1>=0.7.0 in /Users/Eddie/opt/anaconda3/lib/python3.8/site-packages (from konlpy) (1.3.0)\n",
      "Requirement already satisfied: numpy>=1.6 in /Users/Eddie/opt/anaconda3/lib/python3.8/site-packages (from konlpy) (1.20.1)\n",
      "\u001b[31mERROR: Could not find a version that satisfies the requirement collections\u001b[0m\n",
      "\u001b[31mERROR: No matching distribution found for collections\u001b[0m\n",
      "Requirement already satisfied: wordcloud in /Users/Eddie/opt/anaconda3/lib/python3.8/site-packages (1.8.1)\n",
      "Requirement already satisfied: matplotlib in /Users/Eddie/opt/anaconda3/lib/python3.8/site-packages (from wordcloud) (3.3.4)\n",
      "Requirement already satisfied: numpy>=1.6.1 in /Users/Eddie/opt/anaconda3/lib/python3.8/site-packages (from wordcloud) (1.20.1)\n",
      "Requirement already satisfied: pillow in /Users/Eddie/opt/anaconda3/lib/python3.8/site-packages (from wordcloud) (8.2.0)\n",
      "Requirement already satisfied: python-dateutil>=2.1 in /Users/Eddie/opt/anaconda3/lib/python3.8/site-packages (from matplotlib->wordcloud) (2.8.1)\n",
      "Requirement already satisfied: kiwisolver>=1.0.1 in /Users/Eddie/opt/anaconda3/lib/python3.8/site-packages (from matplotlib->wordcloud) (1.3.1)\n",
      "Requirement already satisfied: pyparsing!=2.0.4,!=2.1.2,!=2.1.6,>=2.0.3 in /Users/Eddie/opt/anaconda3/lib/python3.8/site-packages (from matplotlib->wordcloud) (2.4.7)\n",
      "Requirement already satisfied: cycler>=0.10 in /Users/Eddie/opt/anaconda3/lib/python3.8/site-packages (from matplotlib->wordcloud) (0.10.0)\n",
      "Requirement already satisfied: six in /Users/Eddie/opt/anaconda3/lib/python3.8/site-packages (from cycler>=0.10->matplotlib->wordcloud) (1.15.0)\n",
      "\u001b[31mERROR: Could not find a version that satisfies the requirement sys\u001b[0m\n",
      "\u001b[31mERROR: No matching distribution found for sys\u001b[0m\n"
     ]
    }
   ],
   "source": [
    "# 1자연어처리를 위한 추가 라이브러리 설치 \n",
    "!pip install konlpy # 코엔엘파이; 한국어 정보처리를 위한 파이썬 패키지. \n",
    "!pip install collections # 리스트, 튜플, 딕셔내리, 셋트 이외의 데이터형 구축 패키지\n",
    "!pip install wordcloud # 아마도 워드 클라우딩 하는 패키지\n",
    "!pip install sys # sys 모듈은 파이썬 인터프리터가 제공하는 변수와 함수를 직접 제어할 수 있게 해주는 모듈이다."
   ]
  },
  {
   "cell_type": "markdown",
   "id": "a10c026e",
   "metadata": {},
   "source": [
    "1. konlpy\n",
    "https://konlpy.org/ko/latest/index.html\n",
    "\n",
    "2.콜렉션\n",
    "https://docs.python.org/ko/3/library/collections.html"
   ]
  },
  {
   "cell_type": "code",
   "execution_count": 4,
   "id": "f5270f24",
   "metadata": {},
   "outputs": [
    {
     "data": {
      "text/html": [
       "<div>\n",
       "<style scoped>\n",
       "    .dataframe tbody tr th:only-of-type {\n",
       "        vertical-align: middle;\n",
       "    }\n",
       "\n",
       "    .dataframe tbody tr th {\n",
       "        vertical-align: top;\n",
       "    }\n",
       "\n",
       "    .dataframe thead th {\n",
       "        text-align: right;\n",
       "    }\n",
       "</style>\n",
       "<table border=\"1\" class=\"dataframe\">\n",
       "  <thead>\n",
       "    <tr style=\"text-align: right;\">\n",
       "      <th></th>\n",
       "      <th>id</th>\n",
       "      <th>document</th>\n",
       "      <th>label</th>\n",
       "    </tr>\n",
       "  </thead>\n",
       "  <tbody>\n",
       "    <tr>\n",
       "      <th>0</th>\n",
       "      <td>1</td>\n",
       "      <td>영상이나 음악이 이쁘다 해도 미화시킨 불륜일뿐</td>\n",
       "      <td>0</td>\n",
       "    </tr>\n",
       "    <tr>\n",
       "      <th>1</th>\n",
       "      <td>2</td>\n",
       "      <td>히치콕이 이 영화를 봤다면 분명 박수를 쳤을듯...</td>\n",
       "      <td>1</td>\n",
       "    </tr>\n",
       "    <tr>\n",
       "      <th>2</th>\n",
       "      <td>3</td>\n",
       "      <td>괜찮은 음악영화가 또 나왔군요!!! 따뜻한 겨울이 될 것 같아요~</td>\n",
       "      <td>1</td>\n",
       "    </tr>\n",
       "    <tr>\n",
       "      <th>3</th>\n",
       "      <td>4</td>\n",
       "      <td>아무래도 20년도지난작품이라 지금보기는너무유치하다</td>\n",
       "      <td>0</td>\n",
       "    </tr>\n",
       "    <tr>\n",
       "      <th>4</th>\n",
       "      <td>5</td>\n",
       "      <td>지금까지의 영화들이 그랬듯. 이 영화역시 일본에 대한 미화는 여전하다.</td>\n",
       "      <td>0</td>\n",
       "    </tr>\n",
       "    <tr>\n",
       "      <th>...</th>\n",
       "      <td>...</td>\n",
       "      <td>...</td>\n",
       "      <td>...</td>\n",
       "    </tr>\n",
       "    <tr>\n",
       "      <th>4995</th>\n",
       "      <td>4996</td>\n",
       "      <td>좋은 배우들로 3류영화를 찍은 안타까운 영화</td>\n",
       "      <td>0</td>\n",
       "    </tr>\n",
       "    <tr>\n",
       "      <th>4996</th>\n",
       "      <td>4997</td>\n",
       "      <td>진짜 드럽게 재미없다 에드워드 호퍼 그림에 배경 빼고는 볼게 아닌영화</td>\n",
       "      <td>0</td>\n",
       "    </tr>\n",
       "    <tr>\n",
       "      <th>4997</th>\n",
       "      <td>4998</td>\n",
       "      <td>가장 실망스러운 영화.. 지금까지 본영화중..</td>\n",
       "      <td>0</td>\n",
       "    </tr>\n",
       "    <tr>\n",
       "      <th>4998</th>\n",
       "      <td>4999</td>\n",
       "      <td>이런 평점 테러, 네이버에서 좀 막아야 하는 것 아닌가?</td>\n",
       "      <td>1</td>\n",
       "    </tr>\n",
       "    <tr>\n",
       "      <th>4999</th>\n",
       "      <td>5000</td>\n",
       "      <td>여주인공이 전작에서는 귀여웠는데, 여기선 완전 망했네, 실망이다</td>\n",
       "      <td>0</td>\n",
       "    </tr>\n",
       "  </tbody>\n",
       "</table>\n",
       "<p>5000 rows × 3 columns</p>\n",
       "</div>"
      ],
      "text/plain": [
       "        id                                 document  label\n",
       "0        1                영상이나 음악이 이쁘다 해도 미화시킨 불륜일뿐      0\n",
       "1        2             히치콕이 이 영화를 봤다면 분명 박수를 쳤을듯...      1\n",
       "2        3     괜찮은 음악영화가 또 나왔군요!!! 따뜻한 겨울이 될 것 같아요~      1\n",
       "3        4              아무래도 20년도지난작품이라 지금보기는너무유치하다      0\n",
       "4        5  지금까지의 영화들이 그랬듯. 이 영화역시 일본에 대한 미화는 여전하다.      0\n",
       "...    ...                                      ...    ...\n",
       "4995  4996                 좋은 배우들로 3류영화를 찍은 안타까운 영화      0\n",
       "4996  4997   진짜 드럽게 재미없다 에드워드 호퍼 그림에 배경 빼고는 볼게 아닌영화      0\n",
       "4997  4998                가장 실망스러운 영화.. 지금까지 본영화중..      0\n",
       "4998  4999          이런 평점 테러, 네이버에서 좀 막아야 하는 것 아닌가?      1\n",
       "4999  5000      여주인공이 전작에서는 귀여웠는데, 여기선 완전 망했네, 실망이다      0\n",
       "\n",
       "[5000 rows x 3 columns]"
      ]
     },
     "execution_count": 4,
     "metadata": {},
     "output_type": "execute_result"
    }
   ],
   "source": [
    "# 2 라이브러리 imported \n",
    "\n",
    "import pandas as pd \n",
    "import numpy as np\n",
    "import matplotlib.pyplot as plt\n",
    "%matplotlib inline \n",
    "import sys\n",
    "from konlpy.tag import Okt\n",
    "from collections import Counter  # 해시 가능한 객체를 세는 데 사용하는 딕셔너리 서브 클래스\n",
    "from wordcloud import WordCloud\n",
    "\n",
    "# 다운받은 csv를 pandas의 DataFrame 형식으로 불러옵니다.\n",
    "data = pd.read_csv('train.csv')\n",
    "\n",
    "data"
   ]
  },
  {
   "cell_type": "code",
   "execution_count": 6,
   "id": "4ab93ee2",
   "metadata": {},
   "outputs": [
    {
     "name": "stdout",
     "output_type": "stream",
     "text": [
      "결측치가 존재하지 않습니다\n"
     ]
    }
   ],
   "source": [
    "#3 결측값 확인\n",
    "def check_missing_col(dataframe):\n",
    "    counted_missing_col = 0\n",
    "    for i, col in enumerate(dataframe.columns):  # enumerate 반복시키는 내장함수\n",
    "        missing_values = sum(dataframe[col].isna())\n",
    "        is_missing = True if missing_values >= 1 else False\n",
    "        if is_missing:\n",
    "            counted_missing_col += 1\n",
    "            print(f'결측치가 있는 컬럼은: {col}입니다')\n",
    "            print(f'총 {missing_values}개의 결측치가 존재합니다.')\n",
    "\n",
    "        if i == len(dataframe.columns) - 1 and counted_missing_col == 0:\n",
    "            print('결측치가 존재하지 않습니다')\n",
    "check_missing_col(data)"
   ]
  },
  {
   "cell_type": "code",
   "execution_count": 10,
   "id": "b2d1f00a",
   "metadata": {},
   "outputs": [
    {
     "name": "stdout",
     "output_type": "stream",
     "text": [
      "<class 'pandas.core.frame.DataFrame'>\n",
      "RangeIndex: 5000 entries, 0 to 4999\n",
      "Data columns (total 3 columns):\n",
      " #   Column    Non-Null Count  Dtype \n",
      "---  ------    --------------  ----- \n",
      " 0   id        5000 non-null   int64 \n",
      " 1   document  5000 non-null   object\n",
      " 2   label     5000 non-null   int64 \n",
      "dtypes: int64(2), object(1)\n",
      "memory usage: 117.3+ KB\n"
     ]
    }
   ],
   "source": [
    "# 4 데이터 타입,사이즈 확인\n",
    "data.info()"
   ]
  },
  {
   "cell_type": "markdown",
   "id": "71bf625d",
   "metadata": {},
   "source": [
    "5000개의 케이스, 오븍제트 타입의 문서, 숫자데이터 확인 \n"
   ]
  },
  {
   "cell_type": "code",
   "execution_count": 12,
   "id": "28a6589d",
   "metadata": {},
   "outputs": [
    {
     "data": {
      "text/plain": [
       "0    2564\n",
       "1    2436\n",
       "Name: label, dtype: int64"
      ]
     },
     "execution_count": 12,
     "metadata": {},
     "output_type": "execute_result"
    }
   ],
   "source": [
    "#5 클래스 고윳값 및 분포 확인 \n",
    "data['label'].value_counts()"
   ]
  },
  {
   "cell_type": "markdown",
   "id": "4feea80c",
   "metadata": {},
   "source": [
    "1은 긍정 0 은 부정이라 주최측에서 설명; 골고루 분포 되어있음 "
   ]
  },
  {
   "cell_type": "code",
   "execution_count": 13,
   "id": "a4dfc9be",
   "metadata": {},
   "outputs": [],
   "source": [
    "#6 그래프 그리기 위한 패키지 준비\n",
    "import matplotlib.pyplot as plt \n",
    "%matplotlib inline\n",
    "plt.style.use(\"ggplot\")\n"
   ]
  },
  {
   "cell_type": "code",
   "execution_count": 14,
   "id": "a64be430",
   "metadata": {},
   "outputs": [
    {
     "data": {
      "image/png": "[encoded data removed]",
      "text/plain": [
       "<Figure size 720x540 with 1 Axes>"
      ]
     },
     "metadata": {},
     "output_type": "display_data"
    }
   ],
   "source": [
    "# 7 히스토그램 그리기\n",
    "feature = data['label']\n",
    "\n",
    "plt.figure(figsize=(10,7.5)) # 그래프 이미지 크기 설정\n",
    "plt.suptitle(\"Bar Plot\", fontsize=40) # 부제목과 폰트 크기 설정\n",
    "\n",
    "plt.title('label', fontsize=20) # 제목과 폰트 크기 설정\n",
    "temp = feature.value_counts() # feature 변수의 변수별 개수 계산\n",
    "plt.bar(temp.keys(), temp.values, width=0.5, color='b', alpha=0.5) # 막대그래프 생성\n",
    "plt.xticks(temp.keys(), fontsize=12) # x축 값, 폰트 크기 설정\n",
    "plt.tight_layout(rect=[0, 0.03, 1, 0.95]) # 레이아웃 설정\n",
    "plt.show() # 그래프 나타내기"
   ]
  },
  {
   "cell_type": "markdown",
   "id": "29bac369",
   "metadata": {},
   "source": [
    "굳이 이렇게까지 할필요 있나 숫자로 다 확인 가능한데?"
   ]
  },
  {
   "cell_type": "code",
   "execution_count": 15,
   "id": "e3d0b33a",
   "metadata": {},
   "outputs": [
    {
     "name": "stdout",
     "output_type": "stream",
     "text": [
      "리뷰의 평균 길이 : 27.1352\n"
     ]
    }
   ],
   "source": [
    "#8 리뷰길이 확인\n",
    "str_len_mean = np.mean(data['document'].str.len()) # 리뷰 길이의 평균값 계산\n",
    "print('리뷰의 평균 길이 :',str_len_mean)"
   ]
  },
  {
   "cell_type": "markdown",
   "id": "4da48c18",
   "metadata": {},
   "source": [
    " 문자수의 평균길이를 확인하는 이유는 뭘까?"
   ]
  },
  {
   "cell_type": "code",
   "execution_count": 17,
   "id": "24736b41",
   "metadata": {},
   "outputs": [],
   "source": [
    "#9.데이터 필터링을 위한 마스크 설정\n",
    "mask_pos = (data.label == 1)\n",
    "mask_neg = (data.label == 0)\n",
    "\n",
    "#10.전체 / 긍정 / 부정 리뷰 집합을 설정합니다.\n",
    "df_train = data.document.copy() # 전체 train 데이터\n",
    "df_pos = data.loc[mask_pos,:].document # 긍정 리뷰에만 해당하는 train 데이터\n",
    "df_neg = data.loc[mask_neg,:].document # 부정 리뷰에만 해당하는 train 데이터\n",
    "\n",
    "#11. 세 집합을 리스트로 묶어줍니다.\n",
    "compare = [df_train, df_pos, df_neg]"
   ]
  },
  {
   "cell_type": "markdown",
   "id": "4cd15a71",
   "metadata": {},
   "source": [
    "-리뷰에 이미 부정인지 긍정인지 마크가 찍혀 있는지 몰랐다. \n",
    "\n",
    "-데이터분석 목적 재정립: 이 데이터를 가지고 아직 알지 못하는 리뷰 데이터를 분석, 긍정인지 부정인지 분류하시오. "
   ]
  },
  {
   "cell_type": "code",
   "execution_count": 18,
   "id": "f4c03982",
   "metadata": {},
   "outputs": [
    {
     "data": {
      "text/plain": [
       "1            히치콕이 이 영화를 봤다면 분명 박수를 쳤을듯...\n",
       "2    괜찮은 음악영화가 또 나왔군요!!! 따뜻한 겨울이 될 것 같아요~\n",
       "5       내인생에 있어 손까락에 꼽히는 영화 원작을 능가한 리메이크작\n",
       "7          마음이 성숙하고 보면 다르게 보이는 영화.. 걸작이다.\n",
       "8                   가슴 찡했던, 오래 기억에남을 영화!!\n",
       "Name: document, dtype: object"
      ]
     },
     "execution_count": 18,
     "metadata": {},
     "output_type": "execute_result"
    }
   ],
   "source": [
    "#12 긍정 분류 확인\n",
    "df_pos.head()"
   ]
  },
  {
   "cell_type": "code",
   "execution_count": 19,
   "id": "2902e92b",
   "metadata": {},
   "outputs": [
    {
     "data": {
      "text/plain": [
       "0                  영상이나 음악이 이쁘다 해도 미화시킨 불륜일뿐\n",
       "3                아무래도 20년도지난작품이라 지금보기는너무유치하다\n",
       "4    지금까지의 영화들이 그랬듯. 이 영화역시 일본에 대한 미화는 여전하다.\n",
       "6                성룡영화중 최악 .. 차라리 러시아워가 훨씬 나음\n",
       "9                   결말 기분나쁘다 공포매니아에게 이따위 결말을\n",
       "Name: document, dtype: object"
      ]
     },
     "execution_count": 19,
     "metadata": {},
     "output_type": "execute_result"
    }
   ],
   "source": [
    "#13 부정 분류 확인\n",
    "df_neg.head()"
   ]
  },
  {
   "cell_type": "code",
   "execution_count": 20,
   "id": "c6b5cd47",
   "metadata": {},
   "outputs": [
    {
     "data": {
      "image/png": "[encoded data removed]",
      "text/plain": [
       "<Figure size 1440x540 with 3 Axes>"
      ]
     },
     "metadata": {},
     "output_type": "display_data"
    }
   ],
   "source": [
    "#14 히스토그램을 사용해서 데이터의 분포 확인\n",
    "plt.figure(figsize=(20,7.5))\n",
    "plt.suptitle(\"Histogram: review length\", fontsize=40)\n",
    "name = ['total dataset', 'positive reviews', 'negative reviews'] # 제목으로 사용할 문자열\n",
    "\n",
    "for i in range(len(compare)):\n",
    "    document = compare[i]\n",
    "    string_len = [len(x) for x in document]    \n",
    "    plt.subplot(1,3,i+1) # 행 개수/ 열 개수/ 해당 그래프 표시 순서\n",
    "    plt.title(name[i], fontsize=20)\n",
    "    plt.axis([16, 42, 0, 800])  #x축 시작, 끝 / y축 시작, 끝\n",
    "    plt.hist(string_len, alpha=0.5, color='orange') # 히스토그램 생성, alpha: 그래프의 투명도 조절\n",
    "    \n",
    "plt.tight_layout(rect=[0, 0.03, 1, 0.95])\n",
    "plt.show()"
   ]
  },
  {
   "cell_type": "markdown",
   "id": "c204d92a",
   "metadata": {},
   "source": [
    "총 데이터셋에 각각의 리뷰수를 넣는 시각화를 했으면 더 좋았을 듯 이건 태블로로 해보자.\n",
    "\n",
    "- 긍정이든 부정이든 리뷰의 길이는 비슷하다. \n",
    "- 상대적으로 길이가 짧은 리뷰의 빈도가 더 많다. "
   ]
  },
  {
   "cell_type": "code",
   "execution_count": 22,
   "id": "d1ec84ea",
   "metadata": {},
   "outputs": [
    {
     "data": {
      "text/plain": [
       "0                     [영상이나, 음악이, 이쁘다, 해도, 미화시킨, 불륜일뿐]\n",
       "1                 [히치콕이, 이, 영화를, 봤다면, 분명, 박수를, 쳤을듯...]\n",
       "2       [괜찮은, 음악영화가, 또, 나왔군요!!!, 따뜻한, 겨울이, 될, 것, 같아요~]\n",
       "3                      [아무래도, 20년도지난작품이라, 지금보기는너무유치하다]\n",
       "4    [지금까지의, 영화들이, 그랬듯., 이, 영화역시, 일본에, 대한, 미화는, 여전하다.]\n",
       "Name: document, dtype: object"
      ]
     },
     "execution_count": 22,
     "metadata": {},
     "output_type": "execute_result"
    }
   ],
   "source": [
    "#15 리뷰당 단어수(word) 확인하기 \n",
    "\n",
    "word_split = data['document'].str.split() # 공백을 기준으로 문자열을 분리\n",
    "# .stry객체의 문자정보를 추출 \n",
    "word_split[:5] # 상위 5개 값 확인 , 처음부터 5까지 "
   ]
  },
  {
   "cell_type": "code",
   "execution_count": 25,
   "id": "d09a86da",
   "metadata": {},
   "outputs": [
    {
     "data": {
      "image/png": "[encoded data removed]",
      "text/plain": [
       "<Figure size 1440x540 with 3 Axes>"
      ]
     },
     "metadata": {},
     "output_type": "display_data"
    }
   ],
   "source": [
    "#16 분리된 데이터 히스토그램; 분포 살펴보기 \n",
    "\n",
    "plt.figure(figsize=(20,7.5))\n",
    "plt.suptitle(\"Histogram: word count\", fontsize=40)\n",
    "name = ['total dataset', 'positive reviews', 'negative reviews'] # 제목으로 사용할 문자열\n",
    "\n",
    "for i in range(len(compare)):\n",
    "    document = compare[i]\n",
    "    split = document.str.split()\n",
    "    split_len = [len(x) for x in split] \n",
    "    plt.subplot(1,3,i+1) # 행 개수/ 열 개수/ 해당 그래프 표시 순서\n",
    "    plt.title(name[i], fontsize=20)\n",
    "    plt.axis([1, 15, 0, 1750])  #x축 시작, 끝 / y축 시작, 끝\n",
    "    plt.hist(split_len, alpha=0.5, color='purple')\n",
    "    \n",
    "plt.tight_layout(rect=[0, 0.03, 1, 0.95])\n",
    "plt.show()"
   ]
  },
  {
   "cell_type": "markdown",
   "id": "c988d1d7",
   "metadata": {},
   "source": [
    "- 4~9개 어절로 주로 표현.\n",
    "- 그중에서 4개 어절로 표현 가장 많이함. \n",
    "- 4를 빼면 정규분포라고 볼수도 ?"
   ]
  },
  {
   "cell_type": "code",
   "execution_count": 26,
   "id": "303042b0",
   "metadata": {},
   "outputs": [],
   "source": [
    "#17 전체 리뷰들을 하나의 문자열로 만듬\n",
    "def df2str(df):\n",
    "    \n",
    "    s = [s for s in df]\n",
    "    document = \"\"\n",
    "    for i in range(len(s)):\n",
    "        document += s[i]\n",
    "    return document"
   ]
  },
  {
   "cell_type": "code",
   "execution_count": 27,
   "id": "af4ca3e2",
   "metadata": {},
   "outputs": [],
   "source": [
    "#18 명사추출하기 \n",
    "def get_noun(text):\n",
    "   \n",
    "    okt = Okt()\n",
    "    noun = okt.nouns(text)\n",
    "    for i,v in enumerate(noun):\n",
    "        if len(v)<2:\n",
    "            noun.pop(i)\n",
    "    count = Counter(noun)\n",
    "    noun_list = count.most_common(100)\n",
    "\n",
    "    return noun_list"
   ]
  },
  {
   "cell_type": "code",
   "execution_count": 37,
   "id": "ec6c4089",
   "metadata": {},
   "outputs": [],
   "source": [
    "#19 워드클라우드 이미지 생성하기\n",
    "def visualize(noun_list, title):\n",
    "    # 워드클라우드 이미지 생성\n",
    "    wc= WordCloud(\n",
    "        font_path = 'a고딕13.ttf',    # 한글폰트 경로 설정\n",
    "        background_color='white',                             # 배경 색깔 정하기\n",
    "        colormap = 'Dark2',                                # 폰트 색깔 정하기\n",
    "        width = 800,\n",
    "        height = 800).generate_from_frequencies(dict(noun_list)) \n",
    "    \n",
    "    plt.figure(figsize=(10,10)) #이미지 사이즈 지정\n",
    "    plt.suptitle(\"Word Cloud\", fontsize=40)\n",
    "    plt.title(title, fontsize=20)\n",
    "    plt.imshow(wc, interpolation='lanczos') #이미지의 부드럽기 정도\n",
    "    plt.axis('off') #x y 축 숫자 제거\n",
    "    plt.show()  # 워드클라우드 이미지 확인\n",
    "    \n",
    "    return wc"
   ]
  }
 ],
 "metadata": {
  "kernelspec": {
   "display_name": "Python 3",
   "language": "python",
   "name": "python3"
  },
  "language_info": {
   "codemirror_mode": {
    "name": "ipython",
    "version": 3
   },
   "file_extension": ".py",
   "mimetype": "text/x-python",
   "name": "python",
   "nbconvert_exporter": "python",
   "pygments_lexer": "ipython3",
   "version": "3.8.8"
  }
 },
 "nbformat": 4,
 "nbformat_minor": 5
}
