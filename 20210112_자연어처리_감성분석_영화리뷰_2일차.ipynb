{
  "nbformat": 4,
  "nbformat_minor": 0,
  "metadata": {
    "colab": {
      "name": "20210112_자연어처리_감성분석_영화리뷰_2일차.ipynb",
      "provenance": [],
      "collapsed_sections": []
    },
    "kernelspec": {
      "name": "python3",
      "display_name": "Python 3"
    },
    "language_info": {
      "name": "python"
    }
  },
  "cells": [
    {
      "cell_type": "code",
      "execution_count": null,
      "metadata": {
        "colab": {
          "base_uri": "https://localhost:8080/"
        },
        "id": "iWOjeCG-Ht68",
        "outputId": "f28e1f67-d313-47be-a903-470a1715bacb"
      },
      "outputs": [
        {
          "output_type": "stream",
          "name": "stdout",
          "text": [
            "Requirement already satisfied: konlpy in /usr/local/lib/python3.7/dist-packages (0.6.0)\n",
            "Requirement already satisfied: lxml>=4.1.0 in /usr/local/lib/python3.7/dist-packages (from konlpy) (4.2.6)\n",
            "Requirement already satisfied: JPype1>=0.7.0 in /usr/local/lib/python3.7/dist-packages (from konlpy) (1.3.0)\n",
            "Requirement already satisfied: numpy>=1.6 in /usr/local/lib/python3.7/dist-packages (from konlpy) (1.19.5)\n",
            "Requirement already satisfied: typing-extensions in /usr/local/lib/python3.7/dist-packages (from JPype1>=0.7.0->konlpy) (3.10.0.2)\n",
            "\u001b[31mERROR: Could not find a version that satisfies the requirement collections (from versions: none)\u001b[0m\n",
            "\u001b[31mERROR: No matching distribution found for collections\u001b[0m\n",
            "Requirement already satisfied: wordcloud in /usr/local/lib/python3.7/dist-packages (1.5.0)\n",
            "Requirement already satisfied: pillow in /usr/local/lib/python3.7/dist-packages (from wordcloud) (7.1.2)\n",
            "Requirement already satisfied: numpy>=1.6.1 in /usr/local/lib/python3.7/dist-packages (from wordcloud) (1.19.5)\n",
            "\u001b[31mERROR: Could not find a version that satisfies the requirement sys (from versions: none)\u001b[0m\n",
            "\u001b[31mERROR: No matching distribution found for sys\u001b[0m\n"
          ]
        }
      ],
      "source": [
        "!pip install konlpy # 코엔엘파이; 한국어 정보처리를 위한 파이썬 패키지. \n",
        "!pip install collections # 리스트, 튜플, 딕셔내리, 셋트 이외의 데이터형 구축 패키지\n",
        "!pip install wordcloud # 아마도 워드 클라우딩 하는 패키지\n",
        "!pip install sys # sys 모듈은 파이썬 인터프리터가 제공하는 변수와 함수를 직접 제어할 수 있게 해주는 모듈이다."
      ]
    },
    {
      "cell_type": "code",
      "source": [
        "import matplotlib.font_manager as fm\n",
        "\n",
        "# 설치된 폰트 출력\n",
        "font_list = [font.name for font in fm.fontManager.ttflist]\n",
        "font_list"
      ],
      "metadata": {
        "colab": {
          "base_uri": "https://localhost:8080/"
        },
        "id": "HXtFBSmH6CSO",
        "outputId": "0053a9f5-b452-4fc0-9e83-38142efc75e5"
      },
      "execution_count": 42,
      "outputs": [
        {
          "output_type": "execute_result",
          "data": {
            "text/plain": [
              "['STIXSizeOneSym',\n",
              " 'STIXSizeFiveSym',\n",
              " 'DejaVu Serif Display',\n",
              " 'STIXSizeTwoSym',\n",
              " 'STIXNonUnicode',\n",
              " 'DejaVu Serif',\n",
              " 'STIXNonUnicode',\n",
              " 'DejaVu Serif',\n",
              " 'DejaVu Sans Mono',\n",
              " 'cmtt10',\n",
              " 'DejaVu Sans',\n",
              " 'STIXNonUnicode',\n",
              " 'cmb10',\n",
              " 'DejaVu Sans',\n",
              " 'STIXSizeFourSym',\n",
              " 'STIXGeneral',\n",
              " 'DejaVu Serif',\n",
              " 'DejaVu Sans Mono',\n",
              " 'cmsy10',\n",
              " 'cmr10',\n",
              " 'STIXNonUnicode',\n",
              " 'DejaVu Serif',\n",
              " 'STIXGeneral',\n",
              " 'STIXSizeThreeSym',\n",
              " 'DejaVu Sans Mono',\n",
              " 'cmmi10',\n",
              " 'STIXSizeOneSym',\n",
              " 'STIXSizeFourSym',\n",
              " 'STIXSizeThreeSym',\n",
              " 'DejaVu Sans',\n",
              " 'DejaVu Sans Mono',\n",
              " 'STIXSizeTwoSym',\n",
              " 'STIXGeneral',\n",
              " 'DejaVu Sans',\n",
              " 'cmex10',\n",
              " 'DejaVu Sans Display',\n",
              " 'cmss10',\n",
              " 'STIXGeneral',\n",
              " 'Liberation Mono',\n",
              " 'Liberation Sans',\n",
              " 'Liberation Sans',\n",
              " 'Liberation Mono',\n",
              " 'Humor Sans',\n",
              " 'Liberation Serif',\n",
              " 'Liberation Serif',\n",
              " 'Liberation Serif',\n",
              " 'Liberation Mono',\n",
              " 'Liberation Sans Narrow',\n",
              " 'Liberation Sans Narrow',\n",
              " 'Liberation Mono',\n",
              " 'Liberation Sans Narrow',\n",
              " 'Liberation Sans',\n",
              " 'Liberation Sans',\n",
              " 'Liberation Sans Narrow',\n",
              " 'Liberation Serif']"
            ]
          },
          "metadata": {},
          "execution_count": 42
        }
      ]
    },
    {
      "cell_type": "code",
      "source": [
        "import pandas as pd\n",
        "import numpy as np\n",
        "import matplotlib.pyplot as plt\n",
        "%matplotlib inline \n",
        "import sys\n",
        "from konlpy.tag import Okt\n",
        "from collections import Counter\n",
        "from wordcloud import wordcloud\n",
        "\n",
        "data=pd.read_csv('train.csv', encoding='utf-8')\n",
        "data"
      ],
      "metadata": {
        "colab": {
          "base_uri": "https://localhost:8080/",
          "height": 424
        },
        "id": "wYv-DaCIJsPW",
        "outputId": "6d947e76-5501-4ea9-a015-8268d6653129"
      },
      "execution_count": null,
      "outputs": [
        {
          "output_type": "execute_result",
          "data": {
            "text/html": [
              "\n",
              "  <div id=\"df-b57d25e6-ddcd-46b2-af33-d0b6eba8a396\">\n",
              "    <div class=\"colab-df-container\">\n",
              "      <div>\n",
              "<style scoped>\n",
              "    .dataframe tbody tr th:only-of-type {\n",
              "        vertical-align: middle;\n",
              "    }\n",
              "\n",
              "    .dataframe tbody tr th {\n",
              "        vertical-align: top;\n",
              "    }\n",
              "\n",
              "    .dataframe thead th {\n",
              "        text-align: right;\n",
              "    }\n",
              "</style>\n",
              "<table border=\"1\" class=\"dataframe\">\n",
              "  <thead>\n",
              "    <tr style=\"text-align: right;\">\n",
              "      <th></th>\n",
              "      <th>id</th>\n",
              "      <th>document</th>\n",
              "      <th>label</th>\n",
              "    </tr>\n",
              "  </thead>\n",
              "  <tbody>\n",
              "    <tr>\n",
              "      <th>0</th>\n",
              "      <td>1</td>\n",
              "      <td>영상이나 음악이 이쁘다 해도 미화시킨 불륜일뿐</td>\n",
              "      <td>0</td>\n",
              "    </tr>\n",
              "    <tr>\n",
              "      <th>1</th>\n",
              "      <td>2</td>\n",
              "      <td>히치콕이 이 영화를 봤다면 분명 박수를 쳤을듯...</td>\n",
              "      <td>1</td>\n",
              "    </tr>\n",
              "    <tr>\n",
              "      <th>2</th>\n",
              "      <td>3</td>\n",
              "      <td>괜찮은 음악영화가 또 나왔군요!!! 따뜻한 겨울이 될 것 같아요~</td>\n",
              "      <td>1</td>\n",
              "    </tr>\n",
              "    <tr>\n",
              "      <th>3</th>\n",
              "      <td>4</td>\n",
              "      <td>아무래도 20년도지난작품이라 지금보기는너무유치하다</td>\n",
              "      <td>0</td>\n",
              "    </tr>\n",
              "    <tr>\n",
              "      <th>4</th>\n",
              "      <td>5</td>\n",
              "      <td>지금까지의 영화들이 그랬듯. 이 영화역시 일본에 대한 미화는 여전하다.</td>\n",
              "      <td>0</td>\n",
              "    </tr>\n",
              "    <tr>\n",
              "      <th>...</th>\n",
              "      <td>...</td>\n",
              "      <td>...</td>\n",
              "      <td>...</td>\n",
              "    </tr>\n",
              "    <tr>\n",
              "      <th>4995</th>\n",
              "      <td>4996</td>\n",
              "      <td>좋은 배우들로 3류영화를 찍은 안타까운 영화</td>\n",
              "      <td>0</td>\n",
              "    </tr>\n",
              "    <tr>\n",
              "      <th>4996</th>\n",
              "      <td>4997</td>\n",
              "      <td>진짜 드럽게 재미없다 에드워드 호퍼 그림에 배경 빼고는 볼게 아닌영화</td>\n",
              "      <td>0</td>\n",
              "    </tr>\n",
              "    <tr>\n",
              "      <th>4997</th>\n",
              "      <td>4998</td>\n",
              "      <td>가장 실망스러운 영화.. 지금까지 본영화중..</td>\n",
              "      <td>0</td>\n",
              "    </tr>\n",
              "    <tr>\n",
              "      <th>4998</th>\n",
              "      <td>4999</td>\n",
              "      <td>이런 평점 테러, 네이버에서 좀 막아야 하는 것 아닌가?</td>\n",
              "      <td>1</td>\n",
              "    </tr>\n",
              "    <tr>\n",
              "      <th>4999</th>\n",
              "      <td>5000</td>\n",
              "      <td>여주인공이 전작에서는 귀여웠는데, 여기선 완전 망했네, 실망이다</td>\n",
              "      <td>0</td>\n",
              "    </tr>\n",
              "  </tbody>\n",
              "</table>\n",
              "<p>5000 rows × 3 columns</p>\n",
              "</div>\n",
              "      <button class=\"colab-df-convert\" onclick=\"convertToInteractive('df-b57d25e6-ddcd-46b2-af33-d0b6eba8a396')\"\n",
              "              title=\"Convert this dataframe to an interactive table.\"\n",
              "              style=\"display:none;\">\n",
              "        \n",
              "  <svg xmlns=\"http://www.w3.org/2000/svg\" height=\"24px\"viewBox=\"0 0 24 24\"\n",
              "       width=\"24px\">\n",
              "    <path d=\"M0 0h24v24H0V0z\" fill=\"none\"/>\n",
              "    <path d=\"M18.56 5.44l.94 2.06.94-2.06 2.06-.94-2.06-.94-.94-2.06-.94 2.06-2.06.94zm-11 1L8.5 8.5l.94-2.06 2.06-.94-2.06-.94L8.5 2.5l-.94 2.06-2.06.94zm10 10l.94 2.06.94-2.06 2.06-.94-2.06-.94-.94-2.06-.94 2.06-2.06.94z\"/><path d=\"M17.41 7.96l-1.37-1.37c-.4-.4-.92-.59-1.43-.59-.52 0-1.04.2-1.43.59L10.3 9.45l-7.72 7.72c-.78.78-.78 2.05 0 2.83L4 21.41c.39.39.9.59 1.41.59.51 0 1.02-.2 1.41-.59l7.78-7.78 2.81-2.81c.8-.78.8-2.07 0-2.86zM5.41 20L4 18.59l7.72-7.72 1.47 1.35L5.41 20z\"/>\n",
              "  </svg>\n",
              "      </button>\n",
              "      \n",
              "  <style>\n",
              "    .colab-df-container {\n",
              "      display:flex;\n",
              "      flex-wrap:wrap;\n",
              "      gap: 12px;\n",
              "    }\n",
              "\n",
              "    .colab-df-convert {\n",
              "      background-color: #E8F0FE;\n",
              "      border: none;\n",
              "      border-radius: 50%;\n",
              "      cursor: pointer;\n",
              "      display: none;\n",
              "      fill: #1967D2;\n",
              "      height: 32px;\n",
              "      padding: 0 0 0 0;\n",
              "      width: 32px;\n",
              "    }\n",
              "\n",
              "    .colab-df-convert:hover {\n",
              "      background-color: #E2EBFA;\n",
              "      box-shadow: 0px 1px 2px rgba(60, 64, 67, 0.3), 0px 1px 3px 1px rgba(60, 64, 67, 0.15);\n",
              "      fill: #174EA6;\n",
              "    }\n",
              "\n",
              "    [theme=dark] .colab-df-convert {\n",
              "      background-color: #3B4455;\n",
              "      fill: #D2E3FC;\n",
              "    }\n",
              "\n",
              "    [theme=dark] .colab-df-convert:hover {\n",
              "      background-color: #434B5C;\n",
              "      box-shadow: 0px 1px 3px 1px rgba(0, 0, 0, 0.15);\n",
              "      filter: drop-shadow(0px 1px 2px rgba(0, 0, 0, 0.3));\n",
              "      fill: #FFFFFF;\n",
              "    }\n",
              "  </style>\n",
              "\n",
              "      <script>\n",
              "        const buttonEl =\n",
              "          document.querySelector('#df-b57d25e6-ddcd-46b2-af33-d0b6eba8a396 button.colab-df-convert');\n",
              "        buttonEl.style.display =\n",
              "          google.colab.kernel.accessAllowed ? 'block' : 'none';\n",
              "\n",
              "        async function convertToInteractive(key) {\n",
              "          const element = document.querySelector('#df-b57d25e6-ddcd-46b2-af33-d0b6eba8a396');\n",
              "          const dataTable =\n",
              "            await google.colab.kernel.invokeFunction('convertToInteractive',\n",
              "                                                     [key], {});\n",
              "          if (!dataTable) return;\n",
              "\n",
              "          const docLinkHtml = 'Like what you see? Visit the ' +\n",
              "            '<a target=\"_blank\" href=https://colab.research.google.com/notebooks/data_table.ipynb>data table notebook</a>'\n",
              "            + ' to learn more about interactive tables.';\n",
              "          element.innerHTML = '';\n",
              "          dataTable['output_type'] = 'display_data';\n",
              "          await google.colab.output.renderOutput(dataTable, element);\n",
              "          const docLink = document.createElement('div');\n",
              "          docLink.innerHTML = docLinkHtml;\n",
              "          element.appendChild(docLink);\n",
              "        }\n",
              "      </script>\n",
              "    </div>\n",
              "  </div>\n",
              "  "
            ],
            "text/plain": [
              "        id                                 document  label\n",
              "0        1                영상이나 음악이 이쁘다 해도 미화시킨 불륜일뿐      0\n",
              "1        2             히치콕이 이 영화를 봤다면 분명 박수를 쳤을듯...      1\n",
              "2        3     괜찮은 음악영화가 또 나왔군요!!! 따뜻한 겨울이 될 것 같아요~      1\n",
              "3        4              아무래도 20년도지난작품이라 지금보기는너무유치하다      0\n",
              "4        5  지금까지의 영화들이 그랬듯. 이 영화역시 일본에 대한 미화는 여전하다.      0\n",
              "...    ...                                      ...    ...\n",
              "4995  4996                 좋은 배우들로 3류영화를 찍은 안타까운 영화      0\n",
              "4996  4997   진짜 드럽게 재미없다 에드워드 호퍼 그림에 배경 빼고는 볼게 아닌영화      0\n",
              "4997  4998                가장 실망스러운 영화.. 지금까지 본영화중..      0\n",
              "4998  4999          이런 평점 테러, 네이버에서 좀 막아야 하는 것 아닌가?      1\n",
              "4999  5000      여주인공이 전작에서는 귀여웠는데, 여기선 완전 망했네, 실망이다      0\n",
              "\n",
              "[5000 rows x 3 columns]"
            ]
          },
          "metadata": {},
          "execution_count": 32
        }
      ]
    },
    {
      "cell_type": "code",
      "source": [
        "#3 결측값 확인\n",
        "def check_missing_col(dataframe):\n",
        "    counted_missing_col = 0\n",
        "    for i, col in enumerate(dataframe.columns):  # enumerate 반복시키는 내장함수\n",
        "        missing_values = sum(dataframe[col].isna())\n",
        "        is_missing = True if missing_values >= 1 else False\n",
        "        if is_missing:\n",
        "            counted_missing_col += 1\n",
        "            print(f'결측치가 있는 컬럼은: {col}입니다')\n",
        "            print(f'총 {missing_values}개의 결측치가 존재합니다.')\n",
        "\n",
        "        if i == len(dataframe.columns) - 1 and counted_missing_col == 0:\n",
        "            print('결측치가 존재하지 않습니다')\n",
        "check_missing_col(data)\n",
        "\n"
      ],
      "metadata": {
        "colab": {
          "base_uri": "https://localhost:8080/"
        },
        "id": "NuOxcMg5Qe4M",
        "outputId": "fb09245e-c298-4b60-955a-fa0c5e442d98"
      },
      "execution_count": null,
      "outputs": [
        {
          "output_type": "stream",
          "name": "stdout",
          "text": [
            "결측치가 존재하지 않습니다\n"
          ]
        }
      ]
    },
    {
      "cell_type": "code",
      "source": [
        "#8 리뷰길이 확인\n",
        "str_len_mean = np.mean(data['document'].str.len()) # 리뷰 길이의 평균값 계산\n",
        "print('리뷰의 평균 길이 :',str_len_mean)"
      ],
      "metadata": {
        "colab": {
          "base_uri": "https://localhost:8080/"
        },
        "id": "YBWvNj4kQ1O2",
        "outputId": "bc4f133d-7d59-49f4-a19f-63a167e12ff1"
      },
      "execution_count": null,
      "outputs": [
        {
          "output_type": "stream",
          "name": "stdout",
          "text": [
            "리뷰의 평균 길이 : 27.1352\n"
          ]
        }
      ]
    },
    {
      "cell_type": "code",
      "source": [
        "#9.데이터 필터링을 위한 마스크 설정\n",
        "mask_pos = (data.label == 1)\n",
        "mask_neg = (data.label == 0)\n",
        "\n",
        "#10.전체 / 긍정 / 부정 리뷰 집합을 설정.\n",
        "df_train = data.document.copy() # 전체 train 데이터\n",
        "df_pos = data.loc[mask_pos,:].document # 긍정 리뷰에만 해당하는 train 데이터\n",
        "df_neg = data.loc[mask_neg,:].document # 부정 리뷰에만 해당하는 train 데이터\n",
        "\n",
        "#11. 세 집합을 리스트로 묶기.\n",
        "compare = [df_train, df_pos, df_neg]\n",
        "\n",
        "#15 리뷰당 단어수(word) 확인하기 \n",
        "\n",
        "word_split = data['document'].str.split() # 공백을 기준으로 문자열을 분리\n",
        "# .stry객체의 문자정보를 추출 \n",
        "word_split[:5] # 상위 5개 값 확인 , 처음부터 5까지 \n",
        "\n",
        "#17 함수:전체 리뷰들을 하나의 문자열로 만듬\n",
        "def df2str(df):\n",
        "    \n",
        "    s = [s for s in df]\n",
        "    document = \"\"\n",
        "    for i in range(len(s)):\n",
        "        document += s[i]\n",
        "    return document\n",
        "#18 함수: 명사추출하기 \n",
        "def get_noun(text):\n",
        "   \n",
        "    okt = Okt()\n",
        "    noun = okt.nouns(text)\n",
        "    for i,v in enumerate(noun):\n",
        "        if len(v)<2:\n",
        "            noun.pop(i)\n",
        "    count = Counter(noun)\n",
        "    noun_list = count.most_common(100)\n",
        "\n",
        "    return noun_list\n",
        "\n",
        "#19  함수:워드클라우드 이미지 생성하기\n",
        "def visualize(noun_list, title):\n",
        "    # 워드클라우드 이미지 생성\n",
        "    wc= WordCloud(\n",
        "        font_path = 'a고딕13.ttf',    # 한글폰트 경로 설정\n",
        "        background_color='white',                             # 배경 색깔 정하기\n",
        "        colormap = 'Dark2',                                # 폰트 색깔 정하기\n",
        "        width = 800,\n",
        "        height = 800).generate_from_frequencies(dict(noun_list)) \n",
        "    \n",
        "    plt.figure(figsize=(10,10)) #이미지 사이즈 지정\n",
        "    plt.suptitle(\"Word Cloud\", fontsize=40)\n",
        "    plt.title(title, fontsize=20)\n",
        "    plt.imshow(wc, interpolation='lanczos') #이미지의 부드럽기 정도\n",
        "    plt.axis('off') #x y 축 숫자 제거\n",
        "    plt.show()  # 워드클라우드 이미지 확인\n",
        "    \n",
        "    return wc"
      ],
      "metadata": {
        "id": "ELj9TMRvQ5Ss"
      },
      "execution_count": null,
      "outputs": []
    },
    {
      "cell_type": "code",
      "source": [
        "# 전체 훈련데이터 워드 클라우드 형성\n",
        "document = df2str(df_train) # 전체 리뷰들을 하나의 문자열로 만듦\n",
        "noun_list = get_noun(document) # 명사 추출, 개수 셈\n",
        "noun_list[:5] # 상위 5개 단어 확인"
      ],
      "metadata": {
        "colab": {
          "base_uri": "https://localhost:8080/"
        },
        "id": "4j0BmXsLRLrL",
        "outputId": "4ad4823e-77d4-4021-dc15-f243cf27fc58"
      },
      "execution_count": null,
      "outputs": [
        {
          "output_type": "execute_result",
          "data": {
            "text/plain": [
              "[('영화', 1501), ('정말', 320), ('진짜', 269), ('최고', 220), ('평점', 185)]"
            ]
          },
          "metadata": {},
          "execution_count": 36
        }
      ]
    },
    {
      "cell_type": "code",
      "source": [
        "import matplotlib.font_manager as fm\n",
        "\n",
        "# 설치된 폰트 출력\n",
        "font_list = [font.name for font in fm.fontManager.ttflist]\n",
        "font_list"
      ],
      "metadata": {
        "colab": {
          "base_uri": "https://localhost:8080/"
        },
        "id": "OSjwbTsL4rrF",
        "outputId": "2aac7e59-a25b-4e6d-a583-416f967ad4aa"
      },
      "execution_count": null,
      "outputs": [
        {
          "output_type": "execute_result",
          "data": {
            "text/plain": [
              "['STIXSizeOneSym',\n",
              " 'STIXSizeFiveSym',\n",
              " 'DejaVu Serif Display',\n",
              " 'STIXSizeTwoSym',\n",
              " 'STIXNonUnicode',\n",
              " 'DejaVu Serif',\n",
              " 'STIXNonUnicode',\n",
              " 'DejaVu Serif',\n",
              " 'DejaVu Sans Mono',\n",
              " 'cmtt10',\n",
              " 'DejaVu Sans',\n",
              " 'STIXNonUnicode',\n",
              " 'cmb10',\n",
              " 'DejaVu Sans',\n",
              " 'STIXSizeFourSym',\n",
              " 'STIXGeneral',\n",
              " 'DejaVu Serif',\n",
              " 'DejaVu Sans Mono',\n",
              " 'cmsy10',\n",
              " 'cmr10',\n",
              " 'STIXNonUnicode',\n",
              " 'DejaVu Serif',\n",
              " 'STIXGeneral',\n",
              " 'STIXSizeThreeSym',\n",
              " 'DejaVu Sans Mono',\n",
              " 'cmmi10',\n",
              " 'STIXSizeOneSym',\n",
              " 'STIXSizeFourSym',\n",
              " 'STIXSizeThreeSym',\n",
              " 'DejaVu Sans',\n",
              " 'DejaVu Sans Mono',\n",
              " 'STIXSizeTwoSym',\n",
              " 'STIXGeneral',\n",
              " 'DejaVu Sans',\n",
              " 'cmex10',\n",
              " 'DejaVu Sans Display',\n",
              " 'cmss10',\n",
              " 'STIXGeneral',\n",
              " 'Liberation Mono',\n",
              " 'Liberation Sans',\n",
              " 'Liberation Sans',\n",
              " 'Liberation Mono',\n",
              " 'Humor Sans',\n",
              " 'Liberation Serif',\n",
              " 'Liberation Serif',\n",
              " 'Liberation Serif',\n",
              " 'Liberation Mono',\n",
              " 'Liberation Sans Narrow',\n",
              " 'Liberation Sans Narrow',\n",
              " 'Liberation Mono',\n",
              " 'Liberation Sans Narrow',\n",
              " 'Liberation Sans',\n",
              " 'Liberation Sans',\n",
              " 'Liberation Sans Narrow',\n",
              " 'Liberation Serif']"
            ]
          },
          "metadata": {},
          "execution_count": 39
        }
      ]
    },
    {
      "cell_type": "code",
      "source": [
        "import matplotlib.pyplot as plt\n",
        "from matplotlib import rc\n",
        "import seaborn as sns\n",
        "%matplotlib inline\n",
        "rc('font', family='Malgun Gothic')\n",
        "plt.rcParams['axes.unicode_minus'] = False\n",
        "\n",
        "\n",
        "plt.rc('font', family='AppleGothic') \n",
        "top_10 = dict(noun_list[:10]) # 추출한 명사 중 상위 10개\n",
        "plt.figure(figsize=(10,7.5))\n",
        "plt.suptitle(\"Bar Plot\", fontsize=40)\n",
        "plt.title('total reviews', fontsize=20)\n",
        "plt.bar(top_10.keys(), top_10.values(), width=0.5, color='b', alpha=0.5)\n",
        "plt.tight_layout(rect=[0, 0.03, 1, 0.95])\n",
        "plt.show()"
      ],
      "metadata": {
        "colab": {
          "base_uri": "https://localhost:8080/",
          "height": 1000
        },
        "id": "s71C96OZTeOV",
        "outputId": "0a9ab764-b0f9-40b7-cd58-714fd17e0bc1"
      },
      "execution_count": null,
      "outputs": [
        {
          "output_type": "stream",
          "name": "stderr",
          "text": [
            "/usr/local/lib/python3.7/dist-packages/matplotlib/backends/backend_agg.py:214: RuntimeWarning: Glyph 50689 missing from current font.\n",
            "  font.set_text(s, 0.0, flags=flags)\n",
            "/usr/local/lib/python3.7/dist-packages/matplotlib/backends/backend_agg.py:214: RuntimeWarning: Glyph 54868 missing from current font.\n",
            "  font.set_text(s, 0.0, flags=flags)\n",
            "/usr/local/lib/python3.7/dist-packages/matplotlib/backends/backend_agg.py:214: RuntimeWarning: Glyph 51221 missing from current font.\n",
            "  font.set_text(s, 0.0, flags=flags)\n",
            "/usr/local/lib/python3.7/dist-packages/matplotlib/backends/backend_agg.py:214: RuntimeWarning: Glyph 47568 missing from current font.\n",
            "  font.set_text(s, 0.0, flags=flags)\n",
            "/usr/local/lib/python3.7/dist-packages/matplotlib/backends/backend_agg.py:214: RuntimeWarning: Glyph 51652 missing from current font.\n",
            "  font.set_text(s, 0.0, flags=flags)\n",
            "/usr/local/lib/python3.7/dist-packages/matplotlib/backends/backend_agg.py:214: RuntimeWarning: Glyph 51676 missing from current font.\n",
            "  font.set_text(s, 0.0, flags=flags)\n",
            "/usr/local/lib/python3.7/dist-packages/matplotlib/backends/backend_agg.py:214: RuntimeWarning: Glyph 52572 missing from current font.\n",
            "  font.set_text(s, 0.0, flags=flags)\n",
            "/usr/local/lib/python3.7/dist-packages/matplotlib/backends/backend_agg.py:214: RuntimeWarning: Glyph 44256 missing from current font.\n",
            "  font.set_text(s, 0.0, flags=flags)\n",
            "/usr/local/lib/python3.7/dist-packages/matplotlib/backends/backend_agg.py:214: RuntimeWarning: Glyph 54217 missing from current font.\n",
            "  font.set_text(s, 0.0, flags=flags)\n",
            "/usr/local/lib/python3.7/dist-packages/matplotlib/backends/backend_agg.py:214: RuntimeWarning: Glyph 51216 missing from current font.\n",
            "  font.set_text(s, 0.0, flags=flags)\n",
            "/usr/local/lib/python3.7/dist-packages/matplotlib/backends/backend_agg.py:214: RuntimeWarning: Glyph 50672 missing from current font.\n",
            "  font.set_text(s, 0.0, flags=flags)\n",
            "/usr/local/lib/python3.7/dist-packages/matplotlib/backends/backend_agg.py:214: RuntimeWarning: Glyph 44592 missing from current font.\n",
            "  font.set_text(s, 0.0, flags=flags)\n",
            "/usr/local/lib/python3.7/dist-packages/matplotlib/backends/backend_agg.py:214: RuntimeWarning: Glyph 44048 missing from current font.\n",
            "  font.set_text(s, 0.0, flags=flags)\n",
            "/usr/local/lib/python3.7/dist-packages/matplotlib/backends/backend_agg.py:214: RuntimeWarning: Glyph 46041 missing from current font.\n",
            "  font.set_text(s, 0.0, flags=flags)\n",
            "/usr/local/lib/python3.7/dist-packages/matplotlib/backends/backend_agg.py:214: RuntimeWarning: Glyph 51116 missing from current font.\n",
            "  font.set_text(s, 0.0, flags=flags)\n",
            "/usr/local/lib/python3.7/dist-packages/matplotlib/backends/backend_agg.py:214: RuntimeWarning: Glyph 48120 missing from current font.\n",
            "  font.set_text(s, 0.0, flags=flags)\n",
            "/usr/local/lib/python3.7/dist-packages/matplotlib/backends/backend_agg.py:214: RuntimeWarning: Glyph 48372 missing from current font.\n",
            "  font.set_text(s, 0.0, flags=flags)\n",
            "/usr/local/lib/python3.7/dist-packages/matplotlib/backends/backend_agg.py:214: RuntimeWarning: Glyph 49828 missing from current font.\n",
            "  font.set_text(s, 0.0, flags=flags)\n",
            "/usr/local/lib/python3.7/dist-packages/matplotlib/backends/backend_agg.py:214: RuntimeWarning: Glyph 53664 missing from current font.\n",
            "  font.set_text(s, 0.0, flags=flags)\n",
            "/usr/local/lib/python3.7/dist-packages/matplotlib/backends/backend_agg.py:214: RuntimeWarning: Glyph 47532 missing from current font.\n",
            "  font.set_text(s, 0.0, flags=flags)\n",
            "/usr/local/lib/python3.7/dist-packages/matplotlib/backends/backend_agg.py:183: RuntimeWarning: Glyph 50689 missing from current font.\n",
            "  font.set_text(s, 0, flags=flags)\n",
            "/usr/local/lib/python3.7/dist-packages/matplotlib/backends/backend_agg.py:183: RuntimeWarning: Glyph 54868 missing from current font.\n",
            "  font.set_text(s, 0, flags=flags)\n",
            "/usr/local/lib/python3.7/dist-packages/matplotlib/backends/backend_agg.py:183: RuntimeWarning: Glyph 51221 missing from current font.\n",
            "  font.set_text(s, 0, flags=flags)\n",
            "/usr/local/lib/python3.7/dist-packages/matplotlib/backends/backend_agg.py:183: RuntimeWarning: Glyph 47568 missing from current font.\n",
            "  font.set_text(s, 0, flags=flags)\n",
            "/usr/local/lib/python3.7/dist-packages/matplotlib/backends/backend_agg.py:183: RuntimeWarning: Glyph 51652 missing from current font.\n",
            "  font.set_text(s, 0, flags=flags)\n",
            "/usr/local/lib/python3.7/dist-packages/matplotlib/backends/backend_agg.py:183: RuntimeWarning: Glyph 51676 missing from current font.\n",
            "  font.set_text(s, 0, flags=flags)\n",
            "/usr/local/lib/python3.7/dist-packages/matplotlib/backends/backend_agg.py:183: RuntimeWarning: Glyph 52572 missing from current font.\n",
            "  font.set_text(s, 0, flags=flags)\n",
            "/usr/local/lib/python3.7/dist-packages/matplotlib/backends/backend_agg.py:183: RuntimeWarning: Glyph 44256 missing from current font.\n",
            "  font.set_text(s, 0, flags=flags)\n",
            "/usr/local/lib/python3.7/dist-packages/matplotlib/backends/backend_agg.py:183: RuntimeWarning: Glyph 54217 missing from current font.\n",
            "  font.set_text(s, 0, flags=flags)\n",
            "/usr/local/lib/python3.7/dist-packages/matplotlib/backends/backend_agg.py:183: RuntimeWarning: Glyph 51216 missing from current font.\n",
            "  font.set_text(s, 0, flags=flags)\n",
            "/usr/local/lib/python3.7/dist-packages/matplotlib/backends/backend_agg.py:183: RuntimeWarning: Glyph 50672 missing from current font.\n",
            "  font.set_text(s, 0, flags=flags)\n",
            "/usr/local/lib/python3.7/dist-packages/matplotlib/backends/backend_agg.py:183: RuntimeWarning: Glyph 44592 missing from current font.\n",
            "  font.set_text(s, 0, flags=flags)\n",
            "/usr/local/lib/python3.7/dist-packages/matplotlib/backends/backend_agg.py:183: RuntimeWarning: Glyph 44048 missing from current font.\n",
            "  font.set_text(s, 0, flags=flags)\n",
            "/usr/local/lib/python3.7/dist-packages/matplotlib/backends/backend_agg.py:183: RuntimeWarning: Glyph 46041 missing from current font.\n",
            "  font.set_text(s, 0, flags=flags)\n",
            "/usr/local/lib/python3.7/dist-packages/matplotlib/backends/backend_agg.py:183: RuntimeWarning: Glyph 51116 missing from current font.\n",
            "  font.set_text(s, 0, flags=flags)\n",
            "/usr/local/lib/python3.7/dist-packages/matplotlib/backends/backend_agg.py:183: RuntimeWarning: Glyph 48120 missing from current font.\n",
            "  font.set_text(s, 0, flags=flags)\n",
            "/usr/local/lib/python3.7/dist-packages/matplotlib/backends/backend_agg.py:183: RuntimeWarning: Glyph 48372 missing from current font.\n",
            "  font.set_text(s, 0, flags=flags)\n",
            "/usr/local/lib/python3.7/dist-packages/matplotlib/backends/backend_agg.py:183: RuntimeWarning: Glyph 49828 missing from current font.\n",
            "  font.set_text(s, 0, flags=flags)\n",
            "/usr/local/lib/python3.7/dist-packages/matplotlib/backends/backend_agg.py:183: RuntimeWarning: Glyph 53664 missing from current font.\n",
            "  font.set_text(s, 0, flags=flags)\n",
            "/usr/local/lib/python3.7/dist-packages/matplotlib/backends/backend_agg.py:183: RuntimeWarning: Glyph 47532 missing from current font.\n",
            "  font.set_text(s, 0, flags=flags)\n"
          ]
        },
        {
          "output_type": "display_data",
          "data": {
            "image/png": "[encoded data removed]",
            "text/plain": [
              "<Figure size 720x540 with 1 Axes>"
            ]
          },
          "metadata": {
            "needs_background": "light"
          }
        }
      ]
    }
  ]
}