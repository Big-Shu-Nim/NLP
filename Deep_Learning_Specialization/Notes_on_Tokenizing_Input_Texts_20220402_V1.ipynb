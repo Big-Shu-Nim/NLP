{
  "cells": [
    {
      "cell_type": "markdown",
      "metadata": {
        "id": "gc6JHGRc3lWL"
      },
      "source": [
        "<a href=\"https://colab.research.google.com/github/https-deeplearning-ai/tensorflow-1-public/blob/master/C3/W1/ungraded_labs/C3_W1_Lab_1_tokenize_basic.ipynb\" target=\"_parent\"><img src=\"https://colab.research.google.com/assets/colab-badge.svg\" alt=\"Open In Colab\"/></a>"
      ]
    },
    {
      "cell_type": "markdown",
      "source": [
        "# **Note:**\n",
        "This notebook is to study and add more additional info that I need at this course.\n",
        "   So most of sources are derived from the coursera deep learning specializattion. Yet, I'm trying to code them one by one to see how each code words. \n"
      ],
      "metadata": {
        "id": "tXDSIpsB9-XK"
      }
    },
    {
      "cell_type": "markdown",
      "metadata": {
        "id": "rL-LzAqpoGLC"
      },
      "source": [
        "# Ungraded Lab: Tokenizer Basics\n",
        "\n",
        "In most NLP tasks, the initial step in preparing your data is to extract a vocabulary of words from your *corpus* (i.e. input texts). You will need to define how to represent the texts into numerical representations which can be used to train a neural network. These representations are called *tokens* and Tensorflow and Keras makes it easy to generate these using its APIs. You will see how to do that in the next cells."
      ]
    },
    {
      "cell_type": "markdown",
      "metadata": {
        "id": "-nt3uR9TPrUt"
      },
      "source": [
        "## Generating the vocabulary\n",
        "\n",
        "In this notebook, you will look first at how you can provide a look up dictionary for each word. The code below takes a list of sentences, then takes each word in those sentences and assigns it to an integer. This is done using the [fit_on_texts()](https://www.tensorflow.org/api_docs/python/tf/keras/preprocessing/text/Tokenizer#fit_on_texts) method and you can get the result by looking at the `word_index` property. More frequent words have a lower index."
      ]
    },
    {
      "cell_type": "code",
      "source": [
        "\n",
        "from tensorflow.keras.preprocessing.text import Tokenizer \n",
        "# it's a tool to convert text data -> numerial data\n"
      ],
      "metadata": {
        "id": "sCvZwtgx3nmh"
      },
      "execution_count": null,
      "outputs": []
    },
    {
      "cell_type": "code",
      "source": [
        "sentences =[\n",
        "            'i love my dog',\n",
        "            'I, love my cat'\n",
        "]"
      ],
      "metadata": {
        "id": "ZxP-aJeN32tT"
      },
      "execution_count": null,
      "outputs": []
    },
    {
      "cell_type": "code",
      "source": [
        "print(sentences)"
      ],
      "metadata": {
        "id": "5lyHij7H4Iem"
      },
      "execution_count": null,
      "outputs": []
    },
    {
      "cell_type": "code",
      "source": [
        "tokenizer = Tokenizer(num_words = 100) # 현재설정은 딕셔내리 결과값에 영향을주지 않는다. 왜?"
      ],
      "metadata": {
        "id": "mJqCCP534NXV"
      },
      "execution_count": null,
      "outputs": []
    },
    {
      "cell_type": "code",
      "source": [
        "# Generate indices for each word in the corpus  indice--인덱스를 만들다. fit시키고 \n",
        "tokenizer.fit_on_texts(sentences)"
      ],
      "metadata": {
        "id": "HEPzC2bz4aFF"
      },
      "execution_count": null,
      "outputs": []
    },
    {
      "cell_type": "code",
      "source": [
        "word_index = tokenizer.word_index # object설정 이후 tokenizer.word_index method을 사용한다."
      ],
      "metadata": {
        "id": "1XqIJyyZ4nLj"
      },
      "execution_count": null,
      "outputs": []
    },
    {
      "cell_type": "code",
      "source": [
        "print(word_index)\n",
        "# 그러면 아래와 같이 각 문자에 딕셔너리 형태로 키:숫자 로 부여 된다. "
      ],
      "metadata": {
        "id": "pkkS4qCR4tgz"
      },
      "execution_count": null,
      "outputs": []
    },
    {
      "cell_type": "markdown",
      "metadata": {
        "id": "uTPWesNaRdX2"
      },
      "source": [
        "The `num_words` parameter used in the initializer specifies the maximum number of words minus one (based on frequency) to keep when generating sequences. You will see this in a later exercise. For now, the important thing to note is it does not affect how the `word_index` dictionary is generated. You can try passing `1` instead of `100` as shown on the next cell and you will arrive at the same `word_index`. \n",
        "\n",
        "Also notice that by default, all punctuation is ignored and words are converted to lower case. You can override these behaviors by modifying the `filters` and `lower` arguments of the `Tokenizer` class as described [here](https://www.tensorflow.org/api_docs/python/tf/keras/preprocessing/text/Tokenizer#arguments). You can try modifying these in the next cell below and compare the output to the one generated above."
      ]
    },
    {
      "cell_type": "code",
      "execution_count": null,
      "metadata": {
        "id": "VX1A1pDNoVKm"
      },
      "outputs": [],
      "source": [
        "# Define input sentences\n",
        "sentences = [\n",
        "    'i love my dog',\n",
        "    'I, love my cat',\n",
        "    'You love my dog!'\n",
        "]\n",
        "\n",
        "# Initialize the Tokenizer class\n",
        "tokenizer = Tokenizer(num_words = 1)\n",
        "\n",
        "# Generate indices for each word in the corpus\n",
        "tokenizer.fit_on_texts(sentences)\n",
        "\n",
        "# Get the indices and print it\n",
        "word_index = tokenizer.word_index\n",
        "print(word_index)"
      ]
    },
    {
      "cell_type": "code",
      "source": [
        "sentences= [\n",
        "            'i love my dog',\n",
        "            'I, love my cat',\n",
        "            'You love my dog!'\n",
        "]"
      ],
      "metadata": {
        "id": "qgAYHD5689FV"
      },
      "execution_count": null,
      "outputs": []
    },
    {
      "cell_type": "code",
      "source": [
        "print(sentences)"
      ],
      "metadata": {
        "id": "oMd8LG-v9Dvq"
      },
      "execution_count": null,
      "outputs": []
    },
    {
      "cell_type": "code",
      "source": [
        "tokenizer = Tokenizer(num_words = 1)\n"
      ],
      "metadata": {
        "id": "23cNdobp9MDv"
      },
      "execution_count": null,
      "outputs": []
    },
    {
      "cell_type": "code",
      "source": [
        "tokenizer.fit_on_texts(sentences)"
      ],
      "metadata": {
        "id": "LQkh1YIz9P1L"
      },
      "execution_count": null,
      "outputs": []
    },
    {
      "cell_type": "code",
      "source": [
        "word_index = tokenizer.word_index"
      ],
      "metadata": {
        "id": "8g-yzGqy9UdE"
      },
      "execution_count": null,
      "outputs": []
    },
    {
      "cell_type": "code",
      "source": [
        "print(word_index)"
      ],
      "metadata": {
        "id": "HiGx9GJF9YAf"
      },
      "execution_count": null,
      "outputs": []
    },
    {
      "cell_type": "code",
      "source": [
        "# Ah moment : the thing that is deleted is just a punctuaitons in this setting. "
      ],
      "metadata": {
        "id": "bTaG1NK89xI_"
      },
      "execution_count": null,
      "outputs": []
    },
    {
      "cell_type": "markdown",
      "metadata": {
        "id": "c9LFfwBffDaj"
      },
      "source": [
        "That concludes this short exercise on tokenizing input texts!"
      ]
    }
  ],
  "metadata": {
    "colab": {
      "collapsed_sections": [],
      "name": "Notes on_Tokenizing Input Texts_20220402_V1.ipynb",
      "private_outputs": true,
      "provenance": []
    },
    "kernelspec": {
      "display_name": "Python 3",
      "language": "python",
      "name": "python3"
    },
    "language_info": {
      "codemirror_mode": {
        "name": "ipython",
        "version": 3
      },
      "file_extension": ".py",
      "mimetype": "text/x-python",
      "name": "python",
      "nbconvert_exporter": "python",
      "pygments_lexer": "ipython3",
      "version": "3.7.4"
    }
  },
  "nbformat": 4,
  "nbformat_minor": 0
}
