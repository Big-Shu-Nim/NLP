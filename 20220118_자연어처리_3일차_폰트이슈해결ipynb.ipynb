{
  "nbformat": 4,
  "nbformat_minor": 0,
  "metadata": {
    "colab": {
      "name": "20220118_자연어처리_3일차_폰트이슈해결ipynb",
      "provenance": []
    },
    "kernelspec": {
      "name": "python3",
      "display_name": "Python 3"
    },
    "language_info": {
      "name": "python"
    }
  },
  "cells": [
    {
      "cell_type": "code",
      "execution_count": 1,
      "metadata": {
        "colab": {
          "base_uri": "https://localhost:8080/"
        },
        "id": "BfYipNHZRndD",
        "outputId": "b5780d99-22bd-494b-9db6-a6b0f8722841"
      },
      "outputs": [
        {
          "output_type": "stream",
          "name": "stdout",
          "text": [
            "Requirement already satisfied: konlpy in /usr/local/lib/python3.7/dist-packages (0.6.0)\n",
            "Requirement already satisfied: JPype1>=0.7.0 in /usr/local/lib/python3.7/dist-packages (from konlpy) (1.3.0)\n",
            "Requirement already satisfied: numpy>=1.6 in /usr/local/lib/python3.7/dist-packages (from konlpy) (1.19.5)\n",
            "Requirement already satisfied: lxml>=4.1.0 in /usr/local/lib/python3.7/dist-packages (from konlpy) (4.2.6)\n",
            "Requirement already satisfied: typing-extensions in /usr/local/lib/python3.7/dist-packages (from JPype1>=0.7.0->konlpy) (3.10.0.2)\n",
            "\u001b[31mERROR: Could not find a version that satisfies the requirement collections (from versions: none)\u001b[0m\n",
            "\u001b[31mERROR: No matching distribution found for collections\u001b[0m\n",
            "Requirement already satisfied: wordcloud in /usr/local/lib/python3.7/dist-packages (1.5.0)\n",
            "Requirement already satisfied: pillow in /usr/local/lib/python3.7/dist-packages (from wordcloud) (7.1.2)\n",
            "Requirement already satisfied: numpy>=1.6.1 in /usr/local/lib/python3.7/dist-packages (from wordcloud) (1.19.5)\n",
            "\u001b[31mERROR: Could not find a version that satisfies the requirement sys (from versions: none)\u001b[0m\n",
            "\u001b[31mERROR: No matching distribution found for sys\u001b[0m\n"
          ]
        }
      ],
      "source": [
        "!pip install konlpy # 코엔엘파이; 한국어 정보처리를 위한 파이썬 패키지. \n",
        "!pip install collections # 리스트, 튜플, 딕셔내리, 셋트 이외의 데이터형 구축 패키지\n",
        "!pip install wordcloud #  워드 클라우딩 하는 패키지\n",
        "!pip install sys # sys 모듈은 파이썬 인터프리터가 제공하는 변수와 함수를 직접 제어할 수 있게 해주는 모듈이다."
      ]
    },
    {
      "cell_type": "markdown",
      "source": [
        "Matplotlib에서 계속해서 폰트를 잡아주지 못했다. \n",
        "라이브러리/폰트 에 직접 넣어도 뭐고 \n",
        "rcparam도 해보고 다해봤지만 잡히질 않았다. \n",
        "이거떄문에 며칠을 날렸는지;; \n",
        "테디님의 링크에서 해결 : \n",
        "https://teddylee777.github.io/visualization/matplotlib-%EC%8B%9C%EA%B0%81%ED%99%94-%ED%95%9C%EA%B8%80%ED%8F%B0%ED%8A%B8%EC%A0%81%EC%9A%A9"
      ],
      "metadata": {
        "id": "z_RkVbaXSCLq"
      }
    },
    {
      "cell_type": "code",
      "source": [
        "# 2폰트이슈해결 코드\n",
        "!sudo apt-get install -y fonts-nanum\n",
        "!sudo fc-cache -fv\n",
        "!rm ~/.cache/matplotlib -rf\n",
        "import matplotlib.pyplot as plt\n",
        "plt.rc('font', family='NanumBarunGothic') \n"
      ],
      "metadata": {
        "colab": {
          "base_uri": "https://localhost:8080/"
        },
        "id": "_FazOGxeRtCX",
        "outputId": "0319abb7-5f46-46b7-f053-84b0a89d976b"
      },
      "execution_count": 13,
      "outputs": [
        {
          "output_type": "stream",
          "name": "stdout",
          "text": [
            "Reading package lists... Done\n",
            "Building dependency tree       \n",
            "Reading state information... Done\n",
            "fonts-nanum is already the newest version (20170925-1).\n",
            "0 upgraded, 0 newly installed, 0 to remove and 37 not upgraded.\n",
            "/usr/share/fonts: caching, new cache contents: 0 fonts, 1 dirs\n",
            "/usr/share/fonts/truetype: caching, new cache contents: 0 fonts, 3 dirs\n",
            "/usr/share/fonts/truetype/humor-sans: caching, new cache contents: 1 fonts, 0 dirs\n",
            "/usr/share/fonts/truetype/liberation: caching, new cache contents: 16 fonts, 0 dirs\n",
            "/usr/share/fonts/truetype/nanum: caching, new cache contents: 10 fonts, 0 dirs\n",
            "/usr/local/share/fonts: caching, new cache contents: 0 fonts, 0 dirs\n",
            "/root/.local/share/fonts: skipping, no such directory\n",
            "/root/.fonts: skipping, no such directory\n",
            "/var/cache/fontconfig: cleaning cache directory\n",
            "/root/.cache/fontconfig: not cleaning non-existent cache directory\n",
            "/root/.fontconfig: not cleaning non-existent cache directory\n",
            "fc-cache: succeeded\n"
          ]
        }
      ]
    },
    {
      "cell_type": "code",
      "source": [
        "# 3 라이브러리 imported \n",
        "\n",
        "import pandas as pd \n",
        "import numpy as np\n",
        "import matplotlib.pyplot as plt\n",
        "plt.rc('font', family='NanumBarunGothic') \n",
        "%matplotlib inline \n",
        "import sys\n",
        "from konlpy.tag import Okt\n",
        "from collections import Counter  # 해시 가능한 객체를 세는 데 사용하는 딕셔너리 서브 클래스\n",
        "from wordcloud import WordCloud\n",
        "\n",
        "# 다운받은 csv를 pandas의 DataFrame 형식으로 불러옵니다.\n",
        "data = pd.read_csv('train.csv', encoding='utf-8')\n",
        "\n",
        "data"
      ],
      "metadata": {
        "colab": {
          "base_uri": "https://localhost:8080/",
          "height": 423
        },
        "id": "z0EMW8MITgb-",
        "outputId": "e97d8dd3-fc57-4714-9197-30e55e2285e2"
      },
      "execution_count": 9,
      "outputs": [
        {
          "output_type": "execute_result",
          "data": {
            "text/html": [
              "\n",
              "  <div id=\"df-04dfb236-214b-4c80-a896-ca647762bc65\">\n",
              "    <div class=\"colab-df-container\">\n",
              "      <div>\n",
              "<style scoped>\n",
              "    .dataframe tbody tr th:only-of-type {\n",
              "        vertical-align: middle;\n",
              "    }\n",
              "\n",
              "    .dataframe tbody tr th {\n",
              "        vertical-align: top;\n",
              "    }\n",
              "\n",
              "    .dataframe thead th {\n",
              "        text-align: right;\n",
              "    }\n",
              "</style>\n",
              "<table border=\"1\" class=\"dataframe\">\n",
              "  <thead>\n",
              "    <tr style=\"text-align: right;\">\n",
              "      <th></th>\n",
              "      <th>id</th>\n",
              "      <th>document</th>\n",
              "      <th>label</th>\n",
              "    </tr>\n",
              "  </thead>\n",
              "  <tbody>\n",
              "    <tr>\n",
              "      <th>0</th>\n",
              "      <td>1</td>\n",
              "      <td>영상이나 음악이 이쁘다 해도 미화시킨 불륜일뿐</td>\n",
              "      <td>0</td>\n",
              "    </tr>\n",
              "    <tr>\n",
              "      <th>1</th>\n",
              "      <td>2</td>\n",
              "      <td>히치콕이 이 영화를 봤다면 분명 박수를 쳤을듯...</td>\n",
              "      <td>1</td>\n",
              "    </tr>\n",
              "    <tr>\n",
              "      <th>2</th>\n",
              "      <td>3</td>\n",
              "      <td>괜찮은 음악영화가 또 나왔군요!!! 따뜻한 겨울이 될 것 같아요~</td>\n",
              "      <td>1</td>\n",
              "    </tr>\n",
              "    <tr>\n",
              "      <th>3</th>\n",
              "      <td>4</td>\n",
              "      <td>아무래도 20년도지난작품이라 지금보기는너무유치하다</td>\n",
              "      <td>0</td>\n",
              "    </tr>\n",
              "    <tr>\n",
              "      <th>4</th>\n",
              "      <td>5</td>\n",
              "      <td>지금까지의 영화들이 그랬듯. 이 영화역시 일본에 대한 미화는 여전하다.</td>\n",
              "      <td>0</td>\n",
              "    </tr>\n",
              "    <tr>\n",
              "      <th>...</th>\n",
              "      <td>...</td>\n",
              "      <td>...</td>\n",
              "      <td>...</td>\n",
              "    </tr>\n",
              "    <tr>\n",
              "      <th>4995</th>\n",
              "      <td>4996</td>\n",
              "      <td>좋은 배우들로 3류영화를 찍은 안타까운 영화</td>\n",
              "      <td>0</td>\n",
              "    </tr>\n",
              "    <tr>\n",
              "      <th>4996</th>\n",
              "      <td>4997</td>\n",
              "      <td>진짜 드럽게 재미없다 에드워드 호퍼 그림에 배경 빼고는 볼게 아닌영화</td>\n",
              "      <td>0</td>\n",
              "    </tr>\n",
              "    <tr>\n",
              "      <th>4997</th>\n",
              "      <td>4998</td>\n",
              "      <td>가장 실망스러운 영화.. 지금까지 본영화중..</td>\n",
              "      <td>0</td>\n",
              "    </tr>\n",
              "    <tr>\n",
              "      <th>4998</th>\n",
              "      <td>4999</td>\n",
              "      <td>이런 평점 테러, 네이버에서 좀 막아야 하는 것 아닌가?</td>\n",
              "      <td>1</td>\n",
              "    </tr>\n",
              "    <tr>\n",
              "      <th>4999</th>\n",
              "      <td>5000</td>\n",
              "      <td>여주인공이 전작에서는 귀여웠는데, 여기선 완전 망했네, 실망이다</td>\n",
              "      <td>0</td>\n",
              "    </tr>\n",
              "  </tbody>\n",
              "</table>\n",
              "<p>5000 rows × 3 columns</p>\n",
              "</div>\n",
              "      <button class=\"colab-df-convert\" onclick=\"convertToInteractive('df-04dfb236-214b-4c80-a896-ca647762bc65')\"\n",
              "              title=\"Convert this dataframe to an interactive table.\"\n",
              "              style=\"display:none;\">\n",
              "        \n",
              "  <svg xmlns=\"http://www.w3.org/2000/svg\" height=\"24px\"viewBox=\"0 0 24 24\"\n",
              "       width=\"24px\">\n",
              "    <path d=\"M0 0h24v24H0V0z\" fill=\"none\"/>\n",
              "    <path d=\"M18.56 5.44l.94 2.06.94-2.06 2.06-.94-2.06-.94-.94-2.06-.94 2.06-2.06.94zm-11 1L8.5 8.5l.94-2.06 2.06-.94-2.06-.94L8.5 2.5l-.94 2.06-2.06.94zm10 10l.94 2.06.94-2.06 2.06-.94-2.06-.94-.94-2.06-.94 2.06-2.06.94z\"/><path d=\"M17.41 7.96l-1.37-1.37c-.4-.4-.92-.59-1.43-.59-.52 0-1.04.2-1.43.59L10.3 9.45l-7.72 7.72c-.78.78-.78 2.05 0 2.83L4 21.41c.39.39.9.59 1.41.59.51 0 1.02-.2 1.41-.59l7.78-7.78 2.81-2.81c.8-.78.8-2.07 0-2.86zM5.41 20L4 18.59l7.72-7.72 1.47 1.35L5.41 20z\"/>\n",
              "  </svg>\n",
              "      </button>\n",
              "      \n",
              "  <style>\n",
              "    .colab-df-container {\n",
              "      display:flex;\n",
              "      flex-wrap:wrap;\n",
              "      gap: 12px;\n",
              "    }\n",
              "\n",
              "    .colab-df-convert {\n",
              "      background-color: #E8F0FE;\n",
              "      border: none;\n",
              "      border-radius: 50%;\n",
              "      cursor: pointer;\n",
              "      display: none;\n",
              "      fill: #1967D2;\n",
              "      height: 32px;\n",
              "      padding: 0 0 0 0;\n",
              "      width: 32px;\n",
              "    }\n",
              "\n",
              "    .colab-df-convert:hover {\n",
              "      background-color: #E2EBFA;\n",
              "      box-shadow: 0px 1px 2px rgba(60, 64, 67, 0.3), 0px 1px 3px 1px rgba(60, 64, 67, 0.15);\n",
              "      fill: #174EA6;\n",
              "    }\n",
              "\n",
              "    [theme=dark] .colab-df-convert {\n",
              "      background-color: #3B4455;\n",
              "      fill: #D2E3FC;\n",
              "    }\n",
              "\n",
              "    [theme=dark] .colab-df-convert:hover {\n",
              "      background-color: #434B5C;\n",
              "      box-shadow: 0px 1px 3px 1px rgba(0, 0, 0, 0.15);\n",
              "      filter: drop-shadow(0px 1px 2px rgba(0, 0, 0, 0.3));\n",
              "      fill: #FFFFFF;\n",
              "    }\n",
              "  </style>\n",
              "\n",
              "      <script>\n",
              "        const buttonEl =\n",
              "          document.querySelector('#df-04dfb236-214b-4c80-a896-ca647762bc65 button.colab-df-convert');\n",
              "        buttonEl.style.display =\n",
              "          google.colab.kernel.accessAllowed ? 'block' : 'none';\n",
              "\n",
              "        async function convertToInteractive(key) {\n",
              "          const element = document.querySelector('#df-04dfb236-214b-4c80-a896-ca647762bc65');\n",
              "          const dataTable =\n",
              "            await google.colab.kernel.invokeFunction('convertToInteractive',\n",
              "                                                     [key], {});\n",
              "          if (!dataTable) return;\n",
              "\n",
              "          const docLinkHtml = 'Like what you see? Visit the ' +\n",
              "            '<a target=\"_blank\" href=https://colab.research.google.com/notebooks/data_table.ipynb>data table notebook</a>'\n",
              "            + ' to learn more about interactive tables.';\n",
              "          element.innerHTML = '';\n",
              "          dataTable['output_type'] = 'display_data';\n",
              "          await google.colab.output.renderOutput(dataTable, element);\n",
              "          const docLink = document.createElement('div');\n",
              "          docLink.innerHTML = docLinkHtml;\n",
              "          element.appendChild(docLink);\n",
              "        }\n",
              "      </script>\n",
              "    </div>\n",
              "  </div>\n",
              "  "
            ],
            "text/plain": [
              "        id                                 document  label\n",
              "0        1                영상이나 음악이 이쁘다 해도 미화시킨 불륜일뿐      0\n",
              "1        2             히치콕이 이 영화를 봤다면 분명 박수를 쳤을듯...      1\n",
              "2        3     괜찮은 음악영화가 또 나왔군요!!! 따뜻한 겨울이 될 것 같아요~      1\n",
              "3        4              아무래도 20년도지난작품이라 지금보기는너무유치하다      0\n",
              "4        5  지금까지의 영화들이 그랬듯. 이 영화역시 일본에 대한 미화는 여전하다.      0\n",
              "...    ...                                      ...    ...\n",
              "4995  4996                 좋은 배우들로 3류영화를 찍은 안타까운 영화      0\n",
              "4996  4997   진짜 드럽게 재미없다 에드워드 호퍼 그림에 배경 빼고는 볼게 아닌영화      0\n",
              "4997  4998                가장 실망스러운 영화.. 지금까지 본영화중..      0\n",
              "4998  4999          이런 평점 테러, 네이버에서 좀 막아야 하는 것 아닌가?      1\n",
              "4999  5000      여주인공이 전작에서는 귀여웠는데, 여기선 완전 망했네, 실망이다      0\n",
              "\n",
              "[5000 rows x 3 columns]"
            ]
          },
          "metadata": {},
          "execution_count": 9
        }
      ]
    },
    {
      "cell_type": "code",
      "source": [
        "#9.데이터 필터링을 위한 마스크 설정\n",
        "mask_pos = (data.label == 1)\n",
        "mask_neg = (data.label == 0)\n",
        "\n",
        "#10.전체 / 긍정 / 부정 리뷰 집합을 설정합니다.\n",
        "df_train = data.document.copy() # 전체 train 데이터\n",
        "df_pos = data.loc[mask_pos,:].document # 긍정 리뷰에만 해당하는 train 데이터\n",
        "df_neg = data.loc[mask_neg,:].document # 부정 리뷰에만 해당하는 train 데이터\n",
        "\n",
        "#11. 세 집합을 리스트로 묶어줍니다.\n",
        "compare = [df_train, df_pos, df_neg]"
      ],
      "metadata": {
        "id": "5ObQ087YT6S8"
      },
      "execution_count": 10,
      "outputs": []
    },
    {
      "cell_type": "code",
      "source": [
        "#14 히스토그램을 사용해서 데이터의 분포 확인\n",
        "plt.figure(figsize=(20,7.5))\n",
        "plt.suptitle(\"Histogram: review length\", fontsize=40)\n",
        "name = ['total dataset', 'positive reviews', 'negative reviews'] # 제목으로 사용할 문자열\n",
        "\n",
        "for i in range(len(compare)):\n",
        "    document = compare[i]\n",
        "    string_len = [len(x) for x in document]    \n",
        "    plt.subplot(1,3,i+1) # 행 개수/ 열 개수/ 해당 그래프 표시 순서\n",
        "    plt.title(name[i], fontsize=20)\n",
        "    plt.axis([16, 42, 0, 800])  #x축 시작, 끝 / y축 시작, 끝\n",
        "    plt.hist(string_len, alpha=0.5, color='orange') # 히스토그램 생성, alpha: 그래프의 투명도 조절\n",
        "    \n",
        "plt.tight_layout(rect=[0, 0.03, 1, 0.95])\n",
        "plt.show()"
      ],
      "metadata": {
        "colab": {
          "base_uri": "https://localhost:8080/",
          "height": 441
        },
        "id": "hq4iiynAUCtv",
        "outputId": "69fa1288-d00b-4a6f-c41b-9303d3e67b50"
      },
      "execution_count": 11,
      "outputs": [
        {
          "output_type": "display_data",
          "data": {
            "image/png": "[encoded data removed]",
            "text/plain": [
              "<Figure size 1440x540 with 3 Axes>"
            ]
          },
          "metadata": {
            "needs_background": "light"
          }
        }
      ]
    },
    {
      "cell_type": "code",
      "source": [
        "#15 리뷰당 단어수(word) 확인하기 \n",
        "\n",
        "word_split = data['document'].str.split() # 공백을 기준으로 문자열을 분리\n",
        "# .stry객체의 문자정보를 추출 \n",
        "word_split[:5] # 상위 5개 값 확인 , 처음부터 5까지 "
      ],
      "metadata": {
        "colab": {
          "base_uri": "https://localhost:8080/"
        },
        "id": "egMyVxa7UM6O",
        "outputId": "f68a792b-a511-4ce0-f562-f84f152e680e"
      },
      "execution_count": 12,
      "outputs": [
        {
          "output_type": "execute_result",
          "data": {
            "text/plain": [
              "0                     [영상이나, 음악이, 이쁘다, 해도, 미화시킨, 불륜일뿐]\n",
              "1                 [히치콕이, 이, 영화를, 봤다면, 분명, 박수를, 쳤을듯...]\n",
              "2       [괜찮은, 음악영화가, 또, 나왔군요!!!, 따뜻한, 겨울이, 될, 것, 같아요~]\n",
              "3                      [아무래도, 20년도지난작품이라, 지금보기는너무유치하다]\n",
              "4    [지금까지의, 영화들이, 그랬듯., 이, 영화역시, 일본에, 대한, 미화는, 여전하다.]\n",
              "Name: document, dtype: object"
            ]
          },
          "metadata": {},
          "execution_count": 12
        }
      ]
    },
    {
      "cell_type": "code",
      "source": [
        "#17 전체 리뷰들을 하나의 문자열로 만듬\n",
        "def df2str(df):\n",
        "    \n",
        "    s = [s for s in df]\n",
        "    document = \"\"\n",
        "    for i in range(len(s)):\n",
        "        document += s[i]\n",
        "    return document\n",
        "\n",
        "#18 명사추출하기 \n",
        "def get_noun(text):\n",
        "   \n",
        "    okt = Okt()\n",
        "    noun = okt.nouns(text)\n",
        "    for i,v in enumerate(noun):\n",
        "        if len(v)<2:\n",
        "            noun.pop(i)\n",
        "    count = Counter(noun)\n",
        "    noun_list = count.most_common(100)\n",
        "\n",
        "    return noun_list\n",
        "\n",
        "#19 워드클라우드 이미지 생성하기\n",
        "def visualize(noun_list, title):\n",
        "    # 워드클라우드 이미지 생성\n",
        "    wc= WordCloud(\n",
        "        font_path = 'a고딕13.ttf',    # 한글폰트 경로 설정\n",
        "        background_color='white',                             # 배경 색깔 정하기\n",
        "        colormap = 'Dark2',                                # 폰트 색깔 정하기\n",
        "        width = 800,\n",
        "        height = 800).generate_from_frequencies(dict(noun_list)) \n",
        "    \n",
        "    plt.figure(figsize=(10,10)) #이미지 사이즈 지정\n",
        "    plt.suptitle(\"Word Cloud\", fontsize=40)\n",
        "    plt.title(title, fontsize=20)\n",
        "    plt.imshow(wc, interpolation='lanczos') #이미지의 부드럽기 정도\n",
        "    plt.axis('off') #x y 축 숫자 제거\n",
        "    plt.show()  # 워드클라우드 이미지 확인\n",
        "    \n",
        "    return wc\n",
        "#20 전체 데이터 워드클라우드 형성.\n",
        "\n",
        "document = df2str(df_train) # 전체 리뷰들을 하나의 문자열로 만듦\n",
        "noun_list = get_noun(document) # 명사 추출, 개수 셈\n",
        "noun_list[:5] # 상위 5개 단어 확인"
      ],
      "metadata": {
        "colab": {
          "base_uri": "https://localhost:8080/"
        },
        "id": "T61HyywSUVZt",
        "outputId": "6d328e02-b42e-4a8c-862c-c5224c06014f"
      },
      "execution_count": 13,
      "outputs": [
        {
          "output_type": "execute_result",
          "data": {
            "text/plain": [
              "[('영화', 1501), ('정말', 320), ('진짜', 269), ('최고', 220), ('평점', 185)]"
            ]
          },
          "metadata": {},
          "execution_count": 13
        }
      ]
    },
    {
      "cell_type": "code",
      "source": [
        "#21 추출한 명사 중 상위 10개 표시하기\n",
        "\n",
        "top_10 = dict(noun_list[:10]) # 추출한 명사 중 상위 10개\n",
        "plt.figure(figsize=(10,7.5))\n",
        "plt.suptitle(\"Bar Plot\", fontsize=40)\n",
        "plt.title('total reviews', fontsize=20)\n",
        "plt.bar(top_10.keys(), top_10.values(), width=0.5, color='b', alpha=0.5)\n",
        "plt.tight_layout(rect=[0, 0.03, 1, 0.95])\n",
        "plt.show()"
      ],
      "metadata": {
        "colab": {
          "base_uri": "https://localhost:8080/",
          "height": 533
        },
        "id": "FVCE5vz4UnSe",
        "outputId": "401ea528-59fd-4060-b29e-7347c6bc1afc"
      },
      "execution_count": 14,
      "outputs": [
        {
          "output_type": "display_data",
          "data": {
            "image/png": "[encoded data removed]",
            "text/plain": [
              "<Figure size 720x540 with 1 Axes>"
            ]
          },
          "metadata": {
            "needs_background": "light"
          }
        }
      ]
    },
    {
      "cell_type": "code",
      "source": [
        "#22 워드클라우드 시각화\n",
        "total_reviews = visualize(noun_list, font='NanumBarunGothic','title')"
      ],
      "metadata": {
        "colab": {
          "base_uri": "https://localhost:8080/",
          "height": 132
        },
        "id": "Lj9gQRxhbI_s",
        "outputId": "6ca7f681-9a7b-4e8b-e495-63496cb67cf6"
      },
      "execution_count": 18,
      "outputs": [
        {
          "output_type": "error",
          "ename": "SyntaxError",
          "evalue": "ignored",
          "traceback": [
            "\u001b[0;36m  File \u001b[0;32m\"<ipython-input-18-525b01782c28>\"\u001b[0;36m, line \u001b[0;32m2\u001b[0m\n\u001b[0;31m    total_reviews = visualize(noun_list, font='NanumBarunGothic','title')\u001b[0m\n\u001b[0m                                                                ^\u001b[0m\n\u001b[0;31mSyntaxError\u001b[0m\u001b[0;31m:\u001b[0m positional argument follows keyword argument\n"
          ]
        }
      ]
    }
  ]
}